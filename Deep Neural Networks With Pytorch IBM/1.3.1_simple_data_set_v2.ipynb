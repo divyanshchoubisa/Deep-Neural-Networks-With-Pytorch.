{
  "nbformat": 4,
  "nbformat_minor": 0,
  "metadata": {
    "kernelspec": {
      "display_name": "Python 3",
      "language": "python",
      "name": "python3"
    },
    "language_info": {
      "codemirror_mode": {
        "name": "ipython",
        "version": 3
      },
      "file_extension": ".py",
      "mimetype": "text/x-python",
      "name": "python",
      "nbconvert_exporter": "python",
      "pygments_lexer": "ipython3",
      "version": "3.6.8"
    },
    "colab": {
      "name": "1.3.1_simple_data_set_v2.ipynb",
      "provenance": [],
      "collapsed_sections": []
    }
  },
  "cells": [
    {
      "cell_type": "markdown",
      "metadata": {
        "id": "XslIEY-cgB7x",
        "colab_type": "text"
      },
      "source": [
        "<a href=\"http://cocl.us/pytorch_link_top\">\n",
        "    <img src=\"https://s3-api.us-geo.objectstorage.softlayer.net/cf-courses-data/CognitiveClass/DL0110EN/notebook_images%20/Pytochtop.png\" width=\"750\" alt=\"IBM Product \" />\n",
        "</a> "
      ]
    },
    {
      "cell_type": "markdown",
      "metadata": {
        "id": "4ZUkOZuQgB7y",
        "colab_type": "text"
      },
      "source": [
        "<img src=\"https://s3-api.us-geo.objectstorage.softlayer.net/cf-courses-data/CognitiveClass/DL0110EN/notebook_images%20/cc-logo-square.png\" width=\"200\" alt=\"cognitiveclass.ai logo\" />"
      ]
    },
    {
      "cell_type": "markdown",
      "metadata": {
        "id": "jZiOEztlgB7z",
        "colab_type": "text"
      },
      "source": [
        "<h1>Simple Dataset</h1> "
      ]
    },
    {
      "cell_type": "markdown",
      "metadata": {
        "id": "v_uI93U0gB70",
        "colab_type": "text"
      },
      "source": [
        "<h2>Table of Contents</h2>"
      ]
    },
    {
      "cell_type": "markdown",
      "metadata": {
        "id": "Os0QGZWBgB70",
        "colab_type": "text"
      },
      "source": [
        "<p>In this lab, you will construct a basic dataset by using PyTorch and learn how to apply basic transformations to it.</p> \n",
        "<ul>\n",
        "    <li><a href=\"#Simple_Dataset\">Simple dataset</a></li>\n",
        "    <li><a href=\"#Transforms\">Transforms</a></li>\n",
        "    <li><a href=\"#Compose\">Compose</a></li>\n",
        "</ul>\n",
        "<p>Estimated Time Needed: <strong>30 min</strong></p>\n",
        "<hr>"
      ]
    },
    {
      "cell_type": "markdown",
      "metadata": {
        "id": "MUG8BZ9ugB71",
        "colab_type": "text"
      },
      "source": [
        "<h2>Preparation</h2>"
      ]
    },
    {
      "cell_type": "markdown",
      "metadata": {
        "id": "Fl7t1k9GgB71",
        "colab_type": "text"
      },
      "source": [
        "The following are the libraries we are going to use for this lab. The <code>torch.manual_seed()</code> is for forcing the random function to give the same number every time we try to recompile it."
      ]
    },
    {
      "cell_type": "code",
      "metadata": {
        "id": "bD2cbkL7gB72",
        "colab_type": "code",
        "colab": {
          "base_uri": "https://localhost:8080/",
          "height": 34
        },
        "outputId": "d90f785c-e666-4bde-c2ca-54e25ef4b38e"
      },
      "source": [
        "# These are the libraries will be used for this lab.\n",
        "\n",
        "import torch\n",
        "from torch.utils.data import Dataset\n",
        "torch.manual_seed(1)"
      ],
      "execution_count": 1,
      "outputs": [
        {
          "output_type": "execute_result",
          "data": {
            "text/plain": [
              "<torch._C.Generator at 0x7fa79a427f90>"
            ]
          },
          "metadata": {
            "tags": []
          },
          "execution_count": 1
        }
      ]
    },
    {
      "cell_type": "markdown",
      "metadata": {
        "id": "c6Ei1sOAgB76",
        "colab_type": "text"
      },
      "source": [
        "<!--Empty Space for separating topics-->"
      ]
    },
    {
      "cell_type": "markdown",
      "metadata": {
        "id": "R3cNsCIxgB76",
        "colab_type": "text"
      },
      "source": [
        "<h2 id=\"Simple_Dataset\">Simple dataset</h2>"
      ]
    },
    {
      "cell_type": "markdown",
      "metadata": {
        "id": "HKzZLoqAgB77",
        "colab_type": "text"
      },
      "source": [
        "Let us try to create our own dataset class."
      ]
    },
    {
      "cell_type": "code",
      "metadata": {
        "id": "B2WNUkN8gB77",
        "colab_type": "code",
        "colab": {}
      },
      "source": [
        "# Define class for dataset\n",
        "\n",
        "class toy_set(Dataset):\n",
        "    \n",
        "    # Constructor with defult values \n",
        "    def __init__(self, length = 100, transform = None):\n",
        "        self.len = length\n",
        "        self.x = 2 * torch.ones(length, 2)\n",
        "        self.y = torch.ones(length, 1)\n",
        "        self.transform = transform\n",
        "     \n",
        "    # Getter\n",
        "    def __getitem__(self, index):\n",
        "        sample = self.x[index], self.y[index]\n",
        "        if self.transform:\n",
        "            sample = self.transform(sample)     \n",
        "        return sample\n",
        "    \n",
        "    # Get Length\n",
        "    def __len__(self):\n",
        "        return self.len"
      ],
      "execution_count": 0,
      "outputs": []
    },
    {
      "cell_type": "markdown",
      "metadata": {
        "id": "5PUZ5IZWgB7-",
        "colab_type": "text"
      },
      "source": [
        "Now, let us create our <code>toy_set</code> object, and find out the value on index 1 and the length of the inital dataset"
      ]
    },
    {
      "cell_type": "code",
      "metadata": {
        "id": "EYrAPvZEgB7_",
        "colab_type": "code",
        "colab": {
          "base_uri": "https://localhost:8080/",
          "height": 67
        },
        "outputId": "a42ecd28-75e3-47da-a807-9bce5cc21115"
      },
      "source": [
        "# Create Dataset Object. Find out the value on index 1. Find out the length of Dataset Object.\n",
        "\n",
        "our_dataset = toy_set()\n",
        "print(\"Our toy_set object: \", our_dataset)\n",
        "print(\"Value on index 0 of our toy_set object: \", our_dataset[0])\n",
        "print(\"Our toy_set length: \", len(our_dataset))"
      ],
      "execution_count": 3,
      "outputs": [
        {
          "output_type": "stream",
          "text": [
            "Our toy_set object:  <__main__.toy_set object at 0x7fa799e30630>\n",
            "Value on index 0 of our toy_set object:  (tensor([2., 2.]), tensor([1.]))\n",
            "Our toy_set length:  100\n"
          ],
          "name": "stdout"
        }
      ]
    },
    {
      "cell_type": "markdown",
      "metadata": {
        "id": "Jylhs5IlgB8C",
        "colab_type": "text"
      },
      "source": [
        "As a result, we can apply the same indexing convention as a <code>list</code>,\n",
        "and apply the fuction <code>len</code> on the <code>toy_set</code> object. We are able to customize the indexing and length method by <code>def &#95;&#95;getitem&#95;&#95;(self, index)</code> and <code>def &#95;&#95;len&#95;&#95;(self)</code>."
      ]
    },
    {
      "cell_type": "markdown",
      "metadata": {
        "id": "-hpMUwExgB8C",
        "colab_type": "text"
      },
      "source": [
        "Now, let us print out the first 3 elements and assign them to x and y:"
      ]
    },
    {
      "cell_type": "code",
      "metadata": {
        "id": "v1FGyqLEgB8D",
        "colab_type": "code",
        "colab": {
          "base_uri": "https://localhost:8080/",
          "height": 67
        },
        "outputId": "22e15370-47e1-414c-9eb1-d15011928033"
      },
      "source": [
        "# Use loop to print out first 3 elements in dataset\n",
        "\n",
        "for i in range(3):\n",
        "    x, y=our_dataset[i]\n",
        "    print(\"index: \", i, '; x:', x, '; y:', y)"
      ],
      "execution_count": 4,
      "outputs": [
        {
          "output_type": "stream",
          "text": [
            "index:  0 ; x: tensor([2., 2.]) ; y: tensor([1.])\n",
            "index:  1 ; x: tensor([2., 2.]) ; y: tensor([1.])\n",
            "index:  2 ; x: tensor([2., 2.]) ; y: tensor([1.])\n"
          ],
          "name": "stdout"
        }
      ]
    },
    {
      "cell_type": "markdown",
      "metadata": {
        "id": "8-IHv5SdgB8G",
        "colab_type": "text"
      },
      "source": [
        "The dataset object is an Iterable; as a result, we  apply the loop directly on the dataset object "
      ]
    },
    {
      "cell_type": "code",
      "metadata": {
        "id": "SdOhXFBBgB8H",
        "colab_type": "code",
        "colab": {
          "base_uri": "https://localhost:8080/",
          "height": 1000
        },
        "outputId": "e0fc919c-bd69-4f3d-b4e4-81565bcc9acc"
      },
      "source": [
        "for x,y in our_dataset:\n",
        "    print(' x:', x, 'y:', y)"
      ],
      "execution_count": 5,
      "outputs": [
        {
          "output_type": "stream",
          "text": [
            " x: tensor([2., 2.]) y: tensor([1.])\n",
            " x: tensor([2., 2.]) y: tensor([1.])\n",
            " x: tensor([2., 2.]) y: tensor([1.])\n",
            " x: tensor([2., 2.]) y: tensor([1.])\n",
            " x: tensor([2., 2.]) y: tensor([1.])\n",
            " x: tensor([2., 2.]) y: tensor([1.])\n",
            " x: tensor([2., 2.]) y: tensor([1.])\n",
            " x: tensor([2., 2.]) y: tensor([1.])\n",
            " x: tensor([2., 2.]) y: tensor([1.])\n",
            " x: tensor([2., 2.]) y: tensor([1.])\n",
            " x: tensor([2., 2.]) y: tensor([1.])\n",
            " x: tensor([2., 2.]) y: tensor([1.])\n",
            " x: tensor([2., 2.]) y: tensor([1.])\n",
            " x: tensor([2., 2.]) y: tensor([1.])\n",
            " x: tensor([2., 2.]) y: tensor([1.])\n",
            " x: tensor([2., 2.]) y: tensor([1.])\n",
            " x: tensor([2., 2.]) y: tensor([1.])\n",
            " x: tensor([2., 2.]) y: tensor([1.])\n",
            " x: tensor([2., 2.]) y: tensor([1.])\n",
            " x: tensor([2., 2.]) y: tensor([1.])\n",
            " x: tensor([2., 2.]) y: tensor([1.])\n",
            " x: tensor([2., 2.]) y: tensor([1.])\n",
            " x: tensor([2., 2.]) y: tensor([1.])\n",
            " x: tensor([2., 2.]) y: tensor([1.])\n",
            " x: tensor([2., 2.]) y: tensor([1.])\n",
            " x: tensor([2., 2.]) y: tensor([1.])\n",
            " x: tensor([2., 2.]) y: tensor([1.])\n",
            " x: tensor([2., 2.]) y: tensor([1.])\n",
            " x: tensor([2., 2.]) y: tensor([1.])\n",
            " x: tensor([2., 2.]) y: tensor([1.])\n",
            " x: tensor([2., 2.]) y: tensor([1.])\n",
            " x: tensor([2., 2.]) y: tensor([1.])\n",
            " x: tensor([2., 2.]) y: tensor([1.])\n",
            " x: tensor([2., 2.]) y: tensor([1.])\n",
            " x: tensor([2., 2.]) y: tensor([1.])\n",
            " x: tensor([2., 2.]) y: tensor([1.])\n",
            " x: tensor([2., 2.]) y: tensor([1.])\n",
            " x: tensor([2., 2.]) y: tensor([1.])\n",
            " x: tensor([2., 2.]) y: tensor([1.])\n",
            " x: tensor([2., 2.]) y: tensor([1.])\n",
            " x: tensor([2., 2.]) y: tensor([1.])\n",
            " x: tensor([2., 2.]) y: tensor([1.])\n",
            " x: tensor([2., 2.]) y: tensor([1.])\n",
            " x: tensor([2., 2.]) y: tensor([1.])\n",
            " x: tensor([2., 2.]) y: tensor([1.])\n",
            " x: tensor([2., 2.]) y: tensor([1.])\n",
            " x: tensor([2., 2.]) y: tensor([1.])\n",
            " x: tensor([2., 2.]) y: tensor([1.])\n",
            " x: tensor([2., 2.]) y: tensor([1.])\n",
            " x: tensor([2., 2.]) y: tensor([1.])\n",
            " x: tensor([2., 2.]) y: tensor([1.])\n",
            " x: tensor([2., 2.]) y: tensor([1.])\n",
            " x: tensor([2., 2.]) y: tensor([1.])\n",
            " x: tensor([2., 2.]) y: tensor([1.])\n",
            " x: tensor([2., 2.]) y: tensor([1.])\n",
            " x: tensor([2., 2.]) y: tensor([1.])\n",
            " x: tensor([2., 2.]) y: tensor([1.])\n",
            " x: tensor([2., 2.]) y: tensor([1.])\n",
            " x: tensor([2., 2.]) y: tensor([1.])\n",
            " x: tensor([2., 2.]) y: tensor([1.])\n",
            " x: tensor([2., 2.]) y: tensor([1.])\n",
            " x: tensor([2., 2.]) y: tensor([1.])\n",
            " x: tensor([2., 2.]) y: tensor([1.])\n",
            " x: tensor([2., 2.]) y: tensor([1.])\n",
            " x: tensor([2., 2.]) y: tensor([1.])\n",
            " x: tensor([2., 2.]) y: tensor([1.])\n",
            " x: tensor([2., 2.]) y: tensor([1.])\n",
            " x: tensor([2., 2.]) y: tensor([1.])\n",
            " x: tensor([2., 2.]) y: tensor([1.])\n",
            " x: tensor([2., 2.]) y: tensor([1.])\n",
            " x: tensor([2., 2.]) y: tensor([1.])\n",
            " x: tensor([2., 2.]) y: tensor([1.])\n",
            " x: tensor([2., 2.]) y: tensor([1.])\n",
            " x: tensor([2., 2.]) y: tensor([1.])\n",
            " x: tensor([2., 2.]) y: tensor([1.])\n",
            " x: tensor([2., 2.]) y: tensor([1.])\n",
            " x: tensor([2., 2.]) y: tensor([1.])\n",
            " x: tensor([2., 2.]) y: tensor([1.])\n",
            " x: tensor([2., 2.]) y: tensor([1.])\n",
            " x: tensor([2., 2.]) y: tensor([1.])\n",
            " x: tensor([2., 2.]) y: tensor([1.])\n",
            " x: tensor([2., 2.]) y: tensor([1.])\n",
            " x: tensor([2., 2.]) y: tensor([1.])\n",
            " x: tensor([2., 2.]) y: tensor([1.])\n",
            " x: tensor([2., 2.]) y: tensor([1.])\n",
            " x: tensor([2., 2.]) y: tensor([1.])\n",
            " x: tensor([2., 2.]) y: tensor([1.])\n",
            " x: tensor([2., 2.]) y: tensor([1.])\n",
            " x: tensor([2., 2.]) y: tensor([1.])\n",
            " x: tensor([2., 2.]) y: tensor([1.])\n",
            " x: tensor([2., 2.]) y: tensor([1.])\n",
            " x: tensor([2., 2.]) y: tensor([1.])\n",
            " x: tensor([2., 2.]) y: tensor([1.])\n",
            " x: tensor([2., 2.]) y: tensor([1.])\n",
            " x: tensor([2., 2.]) y: tensor([1.])\n",
            " x: tensor([2., 2.]) y: tensor([1.])\n",
            " x: tensor([2., 2.]) y: tensor([1.])\n",
            " x: tensor([2., 2.]) y: tensor([1.])\n",
            " x: tensor([2., 2.]) y: tensor([1.])\n",
            " x: tensor([2., 2.]) y: tensor([1.])\n"
          ],
          "name": "stdout"
        }
      ]
    },
    {
      "cell_type": "markdown",
      "metadata": {
        "id": "Hs-OdmPUgB8K",
        "colab_type": "text"
      },
      "source": [
        "<!--Empty Space for separating topics-->"
      ]
    },
    {
      "cell_type": "markdown",
      "metadata": {
        "id": "waCY7PLQgB8L",
        "colab_type": "text"
      },
      "source": [
        "<h3>Practice</h3>"
      ]
    },
    {
      "cell_type": "markdown",
      "metadata": {
        "id": "hhbyOwjqgB8L",
        "colab_type": "text"
      },
      "source": [
        "Try to create an <code>toy_set</code> object with length <b>50</b>. Print out the length of your object."
      ]
    },
    {
      "cell_type": "code",
      "metadata": {
        "id": "IVlt3yNygB8M",
        "colab_type": "code",
        "colab": {
          "base_uri": "https://localhost:8080/",
          "height": 34
        },
        "outputId": "f3afb88f-5518-4181-d7a9-fb988bffee77"
      },
      "source": [
        "# Practice: Create a new object with length 50, and print the length of object out.\n",
        "my_dataset = toy_set(length = 50)\n",
        "print(\"My toy_set length: \", len(my_dataset))\n",
        "# Type your code here"
      ],
      "execution_count": 6,
      "outputs": [
        {
          "output_type": "stream",
          "text": [
            "My toy_set length:  50\n"
          ],
          "name": "stdout"
        }
      ]
    },
    {
      "cell_type": "markdown",
      "metadata": {
        "id": "VyV3oy6zgB8O",
        "colab_type": "text"
      },
      "source": [
        "Double-click <b>here</b> for the solution.\n",
        "<!-- \n",
        "my_dataset = toy_set(length = 50)\n",
        "print(\"My toy_set length: \", len(my_dataset))\n",
        "-->"
      ]
    },
    {
      "cell_type": "markdown",
      "metadata": {
        "id": "-y3jG0EDgB8P",
        "colab_type": "text"
      },
      "source": [
        "<!--Empty Space for separating topics-->"
      ]
    },
    {
      "cell_type": "markdown",
      "metadata": {
        "id": "IMcBRtg2gB8P",
        "colab_type": "text"
      },
      "source": [
        "<h2 id=\"Transforms\">Transforms</h2>"
      ]
    },
    {
      "cell_type": "markdown",
      "metadata": {
        "id": "HVDFhNsMgB8Q",
        "colab_type": "text"
      },
      "source": [
        "You can also create a class for transforming the data. In this case, we will try to add 1 to x and multiply y by 2:"
      ]
    },
    {
      "cell_type": "code",
      "metadata": {
        "id": "nwFZ4rIigB8Q",
        "colab_type": "code",
        "colab": {}
      },
      "source": [
        "# Create tranform class add_mult\n",
        "\n",
        "class add_mult(object):\n",
        "    \n",
        "    # Constructor\n",
        "    def __init__(self, addx = 1, muly = 2):\n",
        "        self.addx = addx\n",
        "        self.muly = muly\n",
        "    \n",
        "    # Executor\n",
        "    def __call__(self, sample):\n",
        "        x = sample[0]\n",
        "        y = sample[1]\n",
        "        x = x + self.addx\n",
        "        y = y * self.muly\n",
        "        sample = x, y\n",
        "        return sample"
      ],
      "execution_count": 0,
      "outputs": []
    },
    {
      "cell_type": "markdown",
      "metadata": {
        "id": "wZUiZVOwgB8T",
        "colab_type": "text"
      },
      "source": [
        "<!--Empty Space for separating topics-->"
      ]
    },
    {
      "cell_type": "markdown",
      "metadata": {
        "id": "xFr7NwA2gB8U",
        "colab_type": "text"
      },
      "source": [
        "Now, create a transform object:."
      ]
    },
    {
      "cell_type": "code",
      "metadata": {
        "id": "vnK_s2eagB8U",
        "colab_type": "code",
        "colab": {}
      },
      "source": [
        "# Create an add_mult transform object, and an toy_set object\n",
        "\n",
        "a_m = add_mult()\n",
        "data_set = toy_set()"
      ],
      "execution_count": 0,
      "outputs": []
    },
    {
      "cell_type": "markdown",
      "metadata": {
        "id": "4KJndJHQgB8X",
        "colab_type": "text"
      },
      "source": [
        "Assign the outputs of the original dataset to <code>x</code> and <code>y</code>. Then, apply the transform <code>add_mult</code> to the dataset and output the values as <code>x_</code> and <code>y_</code>, respectively: "
      ]
    },
    {
      "cell_type": "code",
      "metadata": {
        "id": "B-viZNUvgB8X",
        "colab_type": "code",
        "colab": {
          "base_uri": "https://localhost:8080/",
          "height": 353
        },
        "outputId": "cdb8d2b4-5618-4792-8d09-6315b1f835f0"
      },
      "source": [
        "# Use loop to print out first 10 elements in dataset\n",
        "\n",
        "for i in range(10):\n",
        "    x, y = data_set[i]\n",
        "    print('Index: ', i, 'Original x: ', x, 'Original y: ', y)\n",
        "    x_, y_ = a_m(data_set[i])\n",
        "    print('Index: ', i, 'Transformed x_:', x_, 'Transformed y_:', y_)"
      ],
      "execution_count": 9,
      "outputs": [
        {
          "output_type": "stream",
          "text": [
            "Index:  0 Original x:  tensor([2., 2.]) Original y:  tensor([1.])\n",
            "Index:  0 Transformed x_: tensor([3., 3.]) Transformed y_: tensor([2.])\n",
            "Index:  1 Original x:  tensor([2., 2.]) Original y:  tensor([1.])\n",
            "Index:  1 Transformed x_: tensor([3., 3.]) Transformed y_: tensor([2.])\n",
            "Index:  2 Original x:  tensor([2., 2.]) Original y:  tensor([1.])\n",
            "Index:  2 Transformed x_: tensor([3., 3.]) Transformed y_: tensor([2.])\n",
            "Index:  3 Original x:  tensor([2., 2.]) Original y:  tensor([1.])\n",
            "Index:  3 Transformed x_: tensor([3., 3.]) Transformed y_: tensor([2.])\n",
            "Index:  4 Original x:  tensor([2., 2.]) Original y:  tensor([1.])\n",
            "Index:  4 Transformed x_: tensor([3., 3.]) Transformed y_: tensor([2.])\n",
            "Index:  5 Original x:  tensor([2., 2.]) Original y:  tensor([1.])\n",
            "Index:  5 Transformed x_: tensor([3., 3.]) Transformed y_: tensor([2.])\n",
            "Index:  6 Original x:  tensor([2., 2.]) Original y:  tensor([1.])\n",
            "Index:  6 Transformed x_: tensor([3., 3.]) Transformed y_: tensor([2.])\n",
            "Index:  7 Original x:  tensor([2., 2.]) Original y:  tensor([1.])\n",
            "Index:  7 Transformed x_: tensor([3., 3.]) Transformed y_: tensor([2.])\n",
            "Index:  8 Original x:  tensor([2., 2.]) Original y:  tensor([1.])\n",
            "Index:  8 Transformed x_: tensor([3., 3.]) Transformed y_: tensor([2.])\n",
            "Index:  9 Original x:  tensor([2., 2.]) Original y:  tensor([1.])\n",
            "Index:  9 Transformed x_: tensor([3., 3.]) Transformed y_: tensor([2.])\n"
          ],
          "name": "stdout"
        }
      ]
    },
    {
      "cell_type": "markdown",
      "metadata": {
        "id": "wSvd2hrRgB8a",
        "colab_type": "text"
      },
      "source": [
        "As the result, <code>x</code> has been added by 1 and y has been multiplied by 2, as <i>[2, 2] + 1 = [3, 3]</i> and <i>[1] x 2 = [2]</i>"
      ]
    },
    {
      "cell_type": "markdown",
      "metadata": {
        "id": "vsVERXuigB8a",
        "colab_type": "text"
      },
      "source": [
        "<!--Empty Space for separating topics-->"
      ]
    },
    {
      "cell_type": "markdown",
      "metadata": {
        "id": "gUKyWjrlgB8a",
        "colab_type": "text"
      },
      "source": [
        "We can apply the transform object every time we create a new <code>toy_set object</code>? Remember, we have the constructor in toy_set class with the parameter <code>transform = None</code>.\n",
        "When we create a new object using the constructor, we can assign the transform object to the parameter transform, as the following code demonstrates."
      ]
    },
    {
      "cell_type": "code",
      "metadata": {
        "id": "pMX-FHfygB8b",
        "colab_type": "code",
        "colab": {}
      },
      "source": [
        "# Create a new data_set object with add_mult object as transform\n",
        "\n",
        "cust_data_set = toy_set(transform = a_m)"
      ],
      "execution_count": 0,
      "outputs": []
    },
    {
      "cell_type": "markdown",
      "metadata": {
        "id": "MB9skKTNgB8d",
        "colab_type": "text"
      },
      "source": [
        "This applied <code>a_m</code> object (a transform method) to every element in <code>cust_data_set</code> as initialized. Let us print out the first 10 elements in <code>cust_data_set</code> in order to see whether the <code>a_m</code> applied on <code>cust_data_set</code>"
      ]
    },
    {
      "cell_type": "code",
      "metadata": {
        "id": "0iVJj6sMgB8e",
        "colab_type": "code",
        "colab": {
          "base_uri": "https://localhost:8080/",
          "height": 353
        },
        "outputId": "55651b44-6ad7-4639-e848-91b1879ba202"
      },
      "source": [
        "# Use loop to print out first 10 elements in dataset\n",
        "\n",
        "for i in range(10):\n",
        "    x, y = data_set[i]\n",
        "    print('Index: ', i, 'Original x: ', x, 'Original y: ', y)\n",
        "    x_, y_ = cust_data_set[i]\n",
        "    print('Index: ', i, 'Transformed x_:', x_, 'Transformed y_:', y_)"
      ],
      "execution_count": 11,
      "outputs": [
        {
          "output_type": "stream",
          "text": [
            "Index:  0 Original x:  tensor([2., 2.]) Original y:  tensor([1.])\n",
            "Index:  0 Transformed x_: tensor([3., 3.]) Transformed y_: tensor([2.])\n",
            "Index:  1 Original x:  tensor([2., 2.]) Original y:  tensor([1.])\n",
            "Index:  1 Transformed x_: tensor([3., 3.]) Transformed y_: tensor([2.])\n",
            "Index:  2 Original x:  tensor([2., 2.]) Original y:  tensor([1.])\n",
            "Index:  2 Transformed x_: tensor([3., 3.]) Transformed y_: tensor([2.])\n",
            "Index:  3 Original x:  tensor([2., 2.]) Original y:  tensor([1.])\n",
            "Index:  3 Transformed x_: tensor([3., 3.]) Transformed y_: tensor([2.])\n",
            "Index:  4 Original x:  tensor([2., 2.]) Original y:  tensor([1.])\n",
            "Index:  4 Transformed x_: tensor([3., 3.]) Transformed y_: tensor([2.])\n",
            "Index:  5 Original x:  tensor([2., 2.]) Original y:  tensor([1.])\n",
            "Index:  5 Transformed x_: tensor([3., 3.]) Transformed y_: tensor([2.])\n",
            "Index:  6 Original x:  tensor([2., 2.]) Original y:  tensor([1.])\n",
            "Index:  6 Transformed x_: tensor([3., 3.]) Transformed y_: tensor([2.])\n",
            "Index:  7 Original x:  tensor([2., 2.]) Original y:  tensor([1.])\n",
            "Index:  7 Transformed x_: tensor([3., 3.]) Transformed y_: tensor([2.])\n",
            "Index:  8 Original x:  tensor([2., 2.]) Original y:  tensor([1.])\n",
            "Index:  8 Transformed x_: tensor([3., 3.]) Transformed y_: tensor([2.])\n",
            "Index:  9 Original x:  tensor([2., 2.]) Original y:  tensor([1.])\n",
            "Index:  9 Transformed x_: tensor([3., 3.]) Transformed y_: tensor([2.])\n"
          ],
          "name": "stdout"
        }
      ]
    },
    {
      "cell_type": "markdown",
      "metadata": {
        "id": "fNUsEVZ9gB8g",
        "colab_type": "text"
      },
      "source": [
        "The result is the same as the previous method."
      ]
    },
    {
      "cell_type": "markdown",
      "metadata": {
        "id": "yKqqCF51gB8h",
        "colab_type": "text"
      },
      "source": [
        "<!--Empty Space for separating topics-->"
      ]
    },
    {
      "cell_type": "code",
      "metadata": {
        "id": "xRJNjI2agB8h",
        "colab_type": "code",
        "colab": {
          "base_uri": "https://localhost:8080/",
          "height": 67
        },
        "outputId": "4e7dbc76-8e60-4fe7-de71-3ba102944676"
      },
      "source": [
        "# Practice: Construct your own my_add_mult transform. Apply my_add_mult on a new toy_set object. Print out the first three elements from the transformed dataset.\n",
        "class my_add_mult(object):   \n",
        "    def __init__(self, add = 2, mul = 10):\n",
        "        self.add=add\n",
        "        self.mul=mul\n",
        "        \n",
        "    def __call__(self, sample):\n",
        "        x = sample[0]\n",
        "        y = sample[1]\n",
        "        x = x + self.add\n",
        "        y = y + self.add\n",
        "        x = x * self.mul\n",
        "        y = y * self.mul\n",
        "        sample = x, y\n",
        "        return sample\n",
        "        \n",
        "       \n",
        "my_dataset = toy_set(transform = my_add_mult())\n",
        "for i in range(3):\n",
        "    x_, y_ = my_dataset[i]\n",
        "    print('Index: ', i, 'Transformed x_:', x_, 'Transformed y_:', y_)\n",
        "# Type your code here."
      ],
      "execution_count": 13,
      "outputs": [
        {
          "output_type": "stream",
          "text": [
            "Index:  0 Transformed x_: tensor([40., 40.]) Transformed y_: tensor([30.])\n",
            "Index:  1 Transformed x_: tensor([40., 40.]) Transformed y_: tensor([30.])\n",
            "Index:  2 Transformed x_: tensor([40., 40.]) Transformed y_: tensor([30.])\n"
          ],
          "name": "stdout"
        }
      ]
    },
    {
      "cell_type": "markdown",
      "metadata": {
        "id": "-x-BBpBqgB8k",
        "colab_type": "text"
      },
      "source": [
        "Double-click <b>here</b> for the solution.\n",
        "<!-- \n",
        "class my_add_mult(object):   \n",
        "    def __init__(self, add = 2, mul = 10):\n",
        "        self.add=add\n",
        "        self.mul=mul\n",
        "        \n",
        "    def __call__(self, sample):\n",
        "        x = sample[0]\n",
        "        y = sample[1]\n",
        "        x = x + self.add\n",
        "        y = y + self.add\n",
        "        x = x * self.mul\n",
        "        y = y * self.mul\n",
        "        sample = x, y\n",
        "        return sample\n",
        "        \n",
        "       \n",
        "my_dataset = toy_set(transform = my_add_mult())\n",
        "for i in range(3):\n",
        "    x_, y_ = my_dataset[i]\n",
        "    print('Index: ', i, 'Transformed x_:', x_, 'Transformed y_:', y_)\n",
        "    \n",
        " -->"
      ]
    },
    {
      "cell_type": "markdown",
      "metadata": {
        "id": "yPXlogQWgB8l",
        "colab_type": "text"
      },
      "source": [
        "<!--Empty Space for separating topics-->"
      ]
    },
    {
      "cell_type": "markdown",
      "metadata": {
        "id": "HFRP4WVcgB8l",
        "colab_type": "text"
      },
      "source": [
        "<h2 id=\"Compose\">Compose</h2>"
      ]
    },
    {
      "cell_type": "markdown",
      "metadata": {
        "id": "G3nmLBxJgB8m",
        "colab_type": "text"
      },
      "source": [
        "You can compose multiple transforms on the dataset object. First, import <code>transforms</code> from <code>torchvision</code>:"
      ]
    },
    {
      "cell_type": "code",
      "metadata": {
        "id": "3S4vfRhngB8m",
        "colab_type": "code",
        "colab": {}
      },
      "source": [
        "# Run the command below when you do not have torchvision installed\n",
        "# !conda install -y torchvision\n",
        "\n",
        "from torchvision import transforms"
      ],
      "execution_count": 0,
      "outputs": []
    },
    {
      "cell_type": "markdown",
      "metadata": {
        "id": "4fMw5h6QgB8p",
        "colab_type": "text"
      },
      "source": [
        "Then, create a new transform class that multiplies each of the elements by 100: "
      ]
    },
    {
      "cell_type": "code",
      "metadata": {
        "id": "oqlh1wHygB8p",
        "colab_type": "code",
        "colab": {}
      },
      "source": [
        "# Create tranform class mult\n",
        "\n",
        "class mult(object):\n",
        "    \n",
        "    # Constructor\n",
        "    def __init__(self, mult = 100):\n",
        "        self.mult = mult\n",
        "        \n",
        "    # Executor\n",
        "    def __call__(self, sample):\n",
        "        x = sample[0]\n",
        "        y = sample[1]\n",
        "        x = x * self.mult\n",
        "        y = y * self.mult\n",
        "        sample = x, y\n",
        "        return sample"
      ],
      "execution_count": 0,
      "outputs": []
    },
    {
      "cell_type": "markdown",
      "metadata": {
        "id": "e23jEJ3DgB8r",
        "colab_type": "text"
      },
      "source": [
        "Now let us try to combine the transforms <code>add_mult</code> and <code>mult</code>"
      ]
    },
    {
      "cell_type": "code",
      "metadata": {
        "id": "Ai7XQ9tRgB8s",
        "colab_type": "code",
        "colab": {
          "base_uri": "https://localhost:8080/",
          "height": 84
        },
        "outputId": "ad7960b0-1c51-4dc7-e1bc-5c7a8c811ef3"
      },
      "source": [
        "# Combine the add_mult() and mult()\n",
        "\n",
        "data_transform = transforms.Compose([add_mult(), mult()])\n",
        "print(\"The combination of transforms (Compose): \", data_transform)\n"
      ],
      "execution_count": 17,
      "outputs": [
        {
          "output_type": "stream",
          "text": [
            "The combination of transforms (Compose):  Compose(\n",
            "    <__main__.add_mult object at 0x7fa799b69828>\n",
            "    <__main__.mult object at 0x7fa799b69908>\n",
            ")\n"
          ],
          "name": "stdout"
        }
      ]
    },
    {
      "cell_type": "markdown",
      "metadata": {
        "id": "J3nf2MVsgB8u",
        "colab_type": "text"
      },
      "source": [
        "The new <code>Compose</code> object will perform each transform concurrently as shown in this figure:"
      ]
    },
    {
      "cell_type": "markdown",
      "metadata": {
        "id": "l2zn10KVgB8u",
        "colab_type": "text"
      },
      "source": [
        "<img src=\"https://s3-api.us-geo.objectstorage.softlayer.net/cf-courses-data/CognitiveClass/DL0110EN/notebook_images%20/chapter%201/1.3.1_trasform.png\" width=\"500\" alt=\"Compose PyTorch\">"
      ]
    },
    {
      "cell_type": "code",
      "metadata": {
        "id": "xL342xYqgB8v",
        "colab_type": "code",
        "colab": {
          "base_uri": "https://localhost:8080/",
          "height": 34
        },
        "outputId": "abc64b46-00da-4bfe-b774-266aacc0a1aa"
      },
      "source": [
        "data_transform(data_set[0])"
      ],
      "execution_count": 18,
      "outputs": [
        {
          "output_type": "execute_result",
          "data": {
            "text/plain": [
              "(tensor([300., 300.]), tensor([200.]))"
            ]
          },
          "metadata": {
            "tags": []
          },
          "execution_count": 18
        }
      ]
    },
    {
      "cell_type": "code",
      "metadata": {
        "id": "z1DsMlrzgB8x",
        "colab_type": "code",
        "colab": {
          "base_uri": "https://localhost:8080/",
          "height": 50
        },
        "outputId": "e853cb56-e8b4-4543-bc86-f3dad34aa00c"
      },
      "source": [
        "x,y=data_set[0]\n",
        "x_,y_=data_transform(data_set[0])\n",
        "print( 'Original x: ', x, 'Original y: ', y)\n",
        "\n",
        "print( 'Transformed x_:', x_, 'Transformed y_:', y_)"
      ],
      "execution_count": 19,
      "outputs": [
        {
          "output_type": "stream",
          "text": [
            "Original x:  tensor([2., 2.]) Original y:  tensor([1.])\n",
            "Transformed x_: tensor([300., 300.]) Transformed y_: tensor([200.])\n"
          ],
          "name": "stdout"
        }
      ]
    },
    {
      "cell_type": "markdown",
      "metadata": {
        "id": "vdsbXFpigB8z",
        "colab_type": "text"
      },
      "source": [
        "Now we can pass the new <code>Compose</code> object (The combination of methods <code>add_mult()</code> and <code>mult</code>) to the constructor for creating <code>toy_set</code> object."
      ]
    },
    {
      "cell_type": "code",
      "metadata": {
        "id": "kYQoA9L-gB80",
        "colab_type": "code",
        "colab": {}
      },
      "source": [
        "# Create a new toy_set object with compose object as transform\n",
        "\n",
        "compose_data_set = toy_set(transform = data_transform)"
      ],
      "execution_count": 0,
      "outputs": []
    },
    {
      "cell_type": "markdown",
      "metadata": {
        "id": "ehs3IrMSgB82",
        "colab_type": "text"
      },
      "source": [
        "Let us print out the first 3 elements in different <code>toy_set</code> datasets in order to compare the output after different transforms have been applied: "
      ]
    },
    {
      "cell_type": "code",
      "metadata": {
        "id": "LCBFCjOTgB83",
        "colab_type": "code",
        "colab": {
          "base_uri": "https://localhost:8080/",
          "height": 168
        },
        "outputId": "207d750a-ab3f-4a91-fba6-0df731a832db"
      },
      "source": [
        "# Use loop to print out first 3 elements in dataset\n",
        "\n",
        "for i in range(3):\n",
        "    x, y = data_set[i]\n",
        "    print('Index: ', i, 'Original x: ', x, 'Original y: ', y)\n",
        "    x_, y_ = cust_data_set[i]\n",
        "    print('Index: ', i, 'Transformed x_:', x_, 'Transformed y_:', y_)\n",
        "    x_co, y_co = compose_data_set[i]\n",
        "    print('Index: ', i, 'Compose Transformed x_co: ', x_co ,'Compose Transformed y_co: ',y_co)"
      ],
      "execution_count": 21,
      "outputs": [
        {
          "output_type": "stream",
          "text": [
            "Index:  0 Original x:  tensor([2., 2.]) Original y:  tensor([1.])\n",
            "Index:  0 Transformed x_: tensor([3., 3.]) Transformed y_: tensor([2.])\n",
            "Index:  0 Compose Transformed x_co:  tensor([300., 300.]) Compose Transformed y_co:  tensor([200.])\n",
            "Index:  1 Original x:  tensor([2., 2.]) Original y:  tensor([1.])\n",
            "Index:  1 Transformed x_: tensor([3., 3.]) Transformed y_: tensor([2.])\n",
            "Index:  1 Compose Transformed x_co:  tensor([300., 300.]) Compose Transformed y_co:  tensor([200.])\n",
            "Index:  2 Original x:  tensor([2., 2.]) Original y:  tensor([1.])\n",
            "Index:  2 Transformed x_: tensor([3., 3.]) Transformed y_: tensor([2.])\n",
            "Index:  2 Compose Transformed x_co:  tensor([300., 300.]) Compose Transformed y_co:  tensor([200.])\n"
          ],
          "name": "stdout"
        }
      ]
    },
    {
      "cell_type": "markdown",
      "metadata": {
        "id": "P7m4npFRgB85",
        "colab_type": "text"
      },
      "source": [
        "Let us see what happened on index 0. The original value of <code>x</code> is <i>[2, 2]</i>, and the original value of <code>y</code> is [1]. If we only applied <code>add_mult()</code> on the original dataset, then the <code>x</code> became <i>[3, 3]</i> and y became <i>[2]</i>. Now let us see what is the value after applied both <code>add_mult()</code> and <code>mult()</code>. The result of x is <i>[300, 300]</i> and y is <i>[200]</i>. The calculation which is equavalent to the compose is <i> x = ([2, 2] + 1) x 100 = [300, 300], y = ([1] x 2) x 100 = 200</i>"
      ]
    },
    {
      "cell_type": "markdown",
      "metadata": {
        "id": "iAXHjE2EgB85",
        "colab_type": "text"
      },
      "source": [
        "<h3>Practice</h3>"
      ]
    },
    {
      "cell_type": "markdown",
      "metadata": {
        "id": "MDa7ZAh8gB86",
        "colab_type": "text"
      },
      "source": [
        "Try to combine the <code>mult()</code> and <code>add_mult()</code> as <code>mult()</code> to be executed first. And apply this on a new <code>toy_set</code> dataset. Print out the first 3 elements in the transformed dataset."
      ]
    },
    {
      "cell_type": "code",
      "metadata": {
        "id": "1h0J50lOgB86",
        "colab_type": "code",
        "colab": {
          "base_uri": "https://localhost:8080/",
          "height": 67
        },
        "outputId": "1bafd99a-846e-46ec-93d9-339dd83deb8d"
      },
      "source": [
        "# Practice: Make a compose as mult() execute first and then add_mult(). Apply the compose on toy_set dataset. Print out the first 3 elements in the transformed dataset.\n",
        "my_compose = transforms.Compose([mult(), add_mult()])\n",
        "my_transformed_dataset = toy_set(transform = my_compose)\n",
        "for i in range(3):\n",
        "    x_, y_ = my_transformed_dataset[i]\n",
        "    print('Index: ', i, 'Transformed x_:', x_, 'Transformed y_:', y_)\n",
        "# Type your code here."
      ],
      "execution_count": 22,
      "outputs": [
        {
          "output_type": "stream",
          "text": [
            "Index:  0 Transformed x_: tensor([201., 201.]) Transformed y_: tensor([200.])\n",
            "Index:  1 Transformed x_: tensor([201., 201.]) Transformed y_: tensor([200.])\n",
            "Index:  2 Transformed x_: tensor([201., 201.]) Transformed y_: tensor([200.])\n"
          ],
          "name": "stdout"
        }
      ]
    },
    {
      "cell_type": "markdown",
      "metadata": {
        "id": "cVpocIZKgB88",
        "colab_type": "text"
      },
      "source": [
        "Double-click <b>here</b> for the solution.\n",
        "<!--\n",
        "my_compose = transforms.Compose([mult(), add_mult()])\n",
        "my_transformed_dataset = toy_set(transform = my_compose)\n",
        "for i in range(3):\n",
        "    x_, y_ = my_transformed_dataset[i]\n",
        "    print('Index: ', i, 'Transformed x_:', x_, 'Transformed y_:', y_)\n",
        "-->"
      ]
    },
    {
      "cell_type": "markdown",
      "metadata": {
        "id": "3tRpG86DgB89",
        "colab_type": "text"
      },
      "source": [
        "<!--Empty Space for separating topics-->"
      ]
    },
    {
      "cell_type": "markdown",
      "metadata": {
        "id": "BEbxjrpNgB89",
        "colab_type": "text"
      },
      "source": [
        "<a href=\"http://cocl.us/pytorch_link_bottom\">\n",
        "    <img src=\"https://s3-api.us-geo.objectstorage.softlayer.net/cf-courses-data/CognitiveClass/DL0110EN/notebook_images%20/notebook_bottom%20.png\" width=\"750\" alt=\"PyTorch Bottom\" />\n",
        "</a>"
      ]
    },
    {
      "cell_type": "markdown",
      "metadata": {
        "id": "yyoE5S5ugB8-",
        "colab_type": "text"
      },
      "source": [
        "<h2>About the Authors:</h2> \n",
        "\n",
        "<a href=\"https://www.linkedin.com/in/joseph-s-50398b136/\">Joseph Santarcangelo</a> has a PhD in Electrical Engineering, his research focused on using machine learning, signal processing, and computer vision to determine how videos impact human cognition. Joseph has been working for IBM since he completed his PhD."
      ]
    },
    {
      "cell_type": "markdown",
      "metadata": {
        "id": "OqH5EHRJgB8-",
        "colab_type": "text"
      },
      "source": [
        "Other contributors: <a href=\"https://www.linkedin.com/in/michelleccarey/\">Michelle Carey</a>, <a href=\"www.linkedin.com/in/jiahui-mavis-zhou-a4537814a\">Mavis Zhou</a> "
      ]
    },
    {
      "cell_type": "markdown",
      "metadata": {
        "id": "8P6pKEJGgB8_",
        "colab_type": "text"
      },
      "source": [
        "<hr>"
      ]
    },
    {
      "cell_type": "markdown",
      "metadata": {
        "id": "Cr86eFqsgB8_",
        "colab_type": "text"
      },
      "source": [
        "Copyright &copy; 2018 <a href=\"cognitiveclass.ai?utm_source=bducopyrightlink&utm_medium=dswb&utm_campaign=bdu\">cognitiveclass.ai</a>. This notebook and its source code are released under the terms of the <a href=\"https://bigdatauniversity.com/mit-license/\">MIT License</a>."
      ]
    },
    {
      "cell_type": "code",
      "metadata": {
        "id": "cXEbKJkqhezP",
        "colab_type": "code",
        "colab": {}
      },
      "source": [
        ""
      ],
      "execution_count": 0,
      "outputs": []
    }
  ]
}